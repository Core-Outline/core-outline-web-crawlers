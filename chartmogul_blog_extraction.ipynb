{
 "cells": [
  {
   "cell_type": "code",
   "execution_count": 1,
   "id": "8f51d4b9",
   "metadata": {},
   "outputs": [],
   "source": [
    "from selenium import webdriver\n",
    "from selenium.webdriver.common.keys import Keys\n",
    "import time\n",
    "from selenium.webdriver.common.by import By\n",
    "import pickle\n",
    "from selenium.webdriver.chrome.options import Options\n",
    "\n",
    "from selenium.webdriver.support.ui import WebDriverWait\n",
    "from selenium.webdriver.support import expected_conditions as EC\n",
    "\n",
    "import pathlib"
   ]
  },
  {
   "cell_type": "code",
   "execution_count": 2,
   "id": "818b4e04",
   "metadata": {},
   "outputs": [],
   "source": [
    "profile_url = 'https://chartmogul.com/blog/'"
   ]
  },
  {
   "cell_type": "code",
   "execution_count": 3,
   "id": "953f526f",
   "metadata": {},
   "outputs": [],
   "source": [
    "driver = webdriver.Chrome()"
   ]
  },
  {
   "cell_type": "code",
   "execution_count": 4,
   "id": "6d4cb69c",
   "metadata": {},
   "outputs": [],
   "source": [
    "driver.get(profile_url)"
   ]
  },
  {
   "cell_type": "code",
   "execution_count": 5,
   "id": "46c7f2ec",
   "metadata": {},
   "outputs": [],
   "source": [
    "wait = WebDriverWait(driver, 10)\n"
   ]
  },
  {
   "cell_type": "code",
   "execution_count": 22,
   "id": "3eab6313",
   "metadata": {},
   "outputs": [
    {
     "data": {
      "text/plain": [
       "13"
      ]
     },
     "execution_count": 22,
     "metadata": {},
     "output_type": "execute_result"
    }
   ],
   "source": [
    "page"
   ]
  },
  {
   "cell_type": "code",
   "execution_count": 16,
   "id": "fe465129",
   "metadata": {},
   "outputs": [],
   "source": [
    "# texts = []\n",
    "# page = 0\n"
   ]
  },
  {
   "cell_type": "code",
   "execution_count": 40,
   "id": "0125ac96",
   "metadata": {},
   "outputs": [
    {
     "name": "stdout",
     "output_type": "stream",
     "text": [
      "0\n",
      "Give Churn the Old Heave-Ho With These Data-Driven Hacks.\n",
      "“Heave”“Boil”“Swirl”“Toss”“Seethe”These are not the words you want to use to describe your clients’ reactions to your SaaS product – and they are all synonyms for “Churn.” Of all of these unsettling terms, I think churn is the worst. Churn is what happens when you’ve built up your hopes and dashed them on the rocks of poor management and failure to meet expectations. And, reducing (dare I say, eliminating?) churn should be the goal of every growing subscription-based company.Why is Churn so Important?The official definition of churn rate is “a measure of the number of individuals moving out of a collective group over a specific period of time.” The number is vital for estimating customer lifetime values and determining the ROI of marketing efforts, the quality of customer service programs, and the importance of customer success initiatives. For SaaS companies in particular, it’s the key to sustainability, growth and profit.Think of it as the beating pulse of your business that determines whether you live, die slowly, or meet your demise like an 17th century duelist who forgot his flintlock at home. Am I being melodramatic? You tell me: What is the worst that could happen if customers leave faster than you can bring them in? Think about it.Okay. Now that you’re ready to take churn seriously, let’s dive in, because you have the power to beat churn. First, however, you have to understand it.Let the Numbers Be Your GuideWhen calculating churn, the most successful companies factor in revenue, user count, and duration of customer relationships, within the context of company size and industry type. For example, let’s start with two simple churn equations:Churn Rate = # of customers lost in period / # of total customers at start of periodThis gives you a good indicator of customer satisfaction, but doesn’t tell you the impact of these losses on your business.Churn Rate = $ of recurring revenue lost in period / $ of total revenue at start of periodThis tells you whether you’re losing your best customers or your worst customers, and how much that impacts your business.It’s helpful to know the churn averages of similar-sized businesses, and industry averages. And, you’ll also want to look at the bigger picture of up-sells, cross-sells, upgrades and downgrades – and down-sells. If you find that your churn rates are high, customers are clearly not getting what they need.A high churn rate can be like hauling water in a leaky sieve; and when it’s dollars that are dripping out, your business is hurting. By taking proactive steps to help your customers be successful with your product or service, you can plug each of those little holes until you’ve got a bowlful of money that runneth over.However, to get an even better picture of how churn affects your business, you should also calculate your Cost to Acquire a Customer (CAC) number and your customer Lifetime Value (LTV).CAC = cost of the product + research + development + marketing at every stage of the sales funnelLTV = Revenue earned from customer within Churn period + up-sells, cross-sells and client referralsPro tip: Before calculating CAC and LTV, segment your customer lists. That way you can identify which types of customers tend to deliver the highest LTVs, and which deliver the lowest – iterating marketing efforts accordingly.If you find that the CAC number is higher than your customer lifetime value (LTV), you have a problem – likely, one or more of these:Your marketing efforts aren’t reaching your target demographic.\n",
      "That target demographic shifted since the last time you checked.\n",
      "Your buyer persona is inaccurate.\n",
      "Your keywords are off.\n",
      "Your messaging is off (on your website, offer pages, CTAs and ads).If in calculating your churn, CAC and LTV, you find that your customers are leaving faster than lemmings in a cliff-diving competition, that tells you something: Sometime after purchase, they’re not getting what they hoped for from your product.“What is the worst that could happen if customers leave faster than you can bring them in?” http://t.co/F9GYxH2FcQ pic.twitter.com/9e8uoqcEJC\n",
      "— ChartMogul (@ChartMogul) July 7, 2015It’s Nancy Drew TimeOnce you’ve done the math to identify your problem, it’s time to find where the expectation/delivery disconnect is happening. Start by tracking customer behavior and looking for warning signs customers display before they leave. Whenever a customer disengages with a product, there are signs – and you can track them. You might want to offer an exit survey to ask customers why they’re leaving.Your investigative work has only just begun – now it’s time to dig for clues as to why customers came to you in the first place, what they expected, and what they found. Again, surveys come in handy. Try implementing an entrance survey asking what new customers hope to find and expect to get. Most importantly, ask questions that get them to reveal what success means to them.Use the information from these exit and entrance surveys to drive your customer success initiatives and increase engagement.3 Churn-Chopping Hacks to Try Right NowNow that you’re measuring Churn, CAC and LTV and finding out where you’re going wrong, you can take the appropriate steps to reduce churn by giving your customers what they want: success with your product. We’re proponents of Customer Success initiatives for SaaS businesses. It’s the only way to build sustainable growth. Find out what your customers want and help them to successfully use your product – that will solve 90% of your problems. For the other 10%, try these simple hacks.1. Don’t let credit cards expire.This is the easiest money you’ll ever make, and the trick is to find a billing system that provides a credit card updater service which automatically informs users when their cards are about to expire.2. Embrace high quality content marketing that has a customer-success focus.With strong content that provides real value and fun, friendly and responsive social media staff, you can become a positive force in your clients’ lives on a daily basis. Answer questions. Offer tips. Make jokes. Tell stories. Make every interaction an enjoyable, valuable experience that helps customers achieve their goals.3. Increase your usefulness.Sometimes customers leave because they outgrow what you can do for them. The only solution to that is to keep growing. Consider developing partnerships with complimentary services to expand your reach and make it more convenient for people to stay than to leave. Maybe invite companies to build add-ons and integrations for your product.Ultimately, when customers can unsubscribe any time, you have to keep providing compelling reasons to stay. Your customers want to love you, and they only leave if your product, service or customer care isn’t giving them what they need. By taking a proactive approach that is driven by data, you can identify what could go wrong before it does go wrong.What Happens Next?What’s on the other side of the churn rainbow? When you’ve hacked the churn problem once and for all by cracking the code of customer success, you’ll find a magical land of exponentially growing revenue. Successful customers become brand advocates who cheerfully advertise and refer your business for free, while providing opportunities for up-sells and cross-sells. Lifetime value skyrockets. Your CAC shrinks. And you can focus on bringing even more value into the lives of your customer base.Can cracking churn make the world a better place? We think it can.Want to read more about SaaS Churn? Download The Ultimate Churn Rate Cheat Sheet PDF from ChartMogul.\n",
      "1\n",
      "How Nitro Democratized Their SaaS Metrics.\n",
      "About NitroOriginally founded in Australia, Nitro is headquartered in downtown San Francisco with offices in Melbourne, Australia; Dublin, Ireland; and Nitra, Slovakia. One of the fastest-growing private companies in the world, Nitro is also a multiple Inc. 500/5000, BRW Fast 100, Deloitte Technology Fast 50 and Software 500 award winner.The Nitro family includes several powerful tools:Nitro Pro, which is desktop software that allows end users to Create and prepare PDF files – the leading replacement to Adobe Acrobat.\n",
      "Nitro Cloud, a SaaS product that provides unlimited Secure eSignatures (including Mobile eSign) and in-browser markup & revision (collaboration) tools.\n",
      "Nitro Pro+, a subscription service that includes Nitro Pro but adds Premium-level support, unlimited upgrades, and the Nitro Cloud Professional Plan.The company was founded in November 2005, and has since raised five rounds of investment, including most recently a $15M Series B in November 2014. In other words, they’ve been growing explosively, even for a modern startup.Manual data mining doesn’t scaleAs Nitro grew, they tracked recurring revenue analytics mainly via a manual pull from their database, or their finance team assembled disclosing results directly from Stripe (their payment platform). More complex metrics for Churn, LTV, and other SaaS metrics had to be constructed manually and, therefore, were infrequently carried out.Once they decided they wanted to expand their SaaS product offerings – by adding a subscription option to their most popular product, Nitro Pro – they realized they needed something better. That was when they found ChartMogul.ChartMogul removes the pain from calculating and understanding a company’s recurring revenue. It does this by providing – through 1-click integrations into the subscription billing platforms – beautifully simple subscription analytics with little to no configuration.In the words of Alex Acker, Sr. Manager, Marketing & Insights at Nitro:“The transition was incredibly seamless. ChartMogul’s ability to access all of Stripe payment platform allowed for all of our historical numbers to be integrated and displayed almost instantly.”It provides exactly the kind of analytics Nitro was looking for: Month over Month Revenue (MMR), Churn Rate, Customer Retention, Retention and Customer Lifetime Value, all with multi-currency and geo-mapping.ChartMogul is key to the success of subscription based productsChartMogul has made a huge difference for Nitro; as Alex explains:“Since onboarding to ChartMogul, we’ve noticed several positive benefits. The first, being a massive reduction in the time it takes to understand purchase and churn patterns. On a dynamic and daily basis we now have a clear line of sight into the health of our SaaS business. The second is that our SaaS metrics and subscription performance have become more accessible and democratized throughout the company. Leaders and managers in each department now have the capability to review metrics on the fly and get the respective answers they need.”The brand new Nitro 10 – with a subscription option made possible by ChartMogul’s intelligence – introduces a new Batch Processing tool for repetitive tasks, plus adds drag-and-drop support for creating PDFs and copying pages between documents. It also adds PDF Portfolio creation, PDF/A conversion, and wider support for various cloud-based storage services.Alex Acker adds:“Exploring our data via ChartMogul has become a daily exercise first thing each morning. We recently released a subscription pricing option for our most successful product, Nitro Pro 10, and thus need to dynamically understand its performance and uptake on a daily basis.”Nitro’s manager now highly recommends ChartMogul:“You simply cannot manage a SaaS business effectively without insight into key SaaS metrics and assembling and correctly analyzing this data can prove challenging for any. ChartMogul breaks down the barriers of access to SaaS analytics and provides a common view of key metrics throughout our organization. We use it daily.”Actionable InsightsChartMogul adds an extra sophisticated layer of intelligence by offering Cohort Analysis: observing what happens to a group of customers that joined in a particular time period. It allows companies to better understand the changes in subscription lifecycles, helping the decision making process so the company can take action in time to upgrade or avoid a revenue loss.Armed with full insight and visibility into their subscription customers, Nitro can now confidently focus on what they do best: helping their customers find the best leads.Give ChartMogul a tryYou can now sign up to start a 14-day free trial, and see for yourself how companies like Nitro were able to get better insights into their subscription business.\n",
      "2\n"
     ]
    },
    {
     "name": "stdout",
     "output_type": "stream",
     "text": [
      "SaaS Metrics: The Secret To Subscription Success [Slides].\n",
      "Behind every successful SaaS business is a wealth of SaaS metrics.This presentation gives you a broad overview of the key metrics you should be measuring to fully understand how your business is growing.Metrics like Monthly Recurring Revenue (MRR), Customer Churn Rate, MRR Churn Rate and Customer Lifetime Value (LTV) can often be measured in a number of ways. We show you the intricacies of each of them.SaaS Metrics: The Secret to Subscription Success from EdShelleyGot any questions on SaaS Metrics, or want to find out more? Get in touch!\n",
      "3\n",
      "New: Upgrade, Downgrade or Delete Manual Customers.\n",
      "We introduced Manual Customers back in April to address the common scenario of having customers which are invoiced outside of your subscription billing system. We know many of you have customers that fit these criteria, and the importance of including their subscription data alongside the data from your primary billing system.With ChartMogul, we allow you to include and aggregate all of this data in your account – regardless of the source.What’s New?Firstly, you can modify subscriptions for these customers, enabling upgrades and downgrades to their account. You can do this in the ChartMogul Dashboard, or by uploading a CSV file with updated subscription information for the existing customers you want to modify. Any of these modifications to the customer’s subscription will be reflected in a new Activities feed on the Customer page:Secondly, you can now delete manual customers in the ChartMogul dashboard. The customer, including their historical data, will be completely removed from the platform and you’ll no longer see them listed on the Customers page.Finally, we now also allow you to fully delete a customer’s subscription, including all historical records of it. You can do this from the Edit Subscription window:These new updates and the Manual Customers feature are available today to all customers on the PRO Plan.\n",
      "4\n"
     ]
    },
    {
     "ename": "TimeoutException",
     "evalue": "Message: \nStacktrace:\nBacktrace:\n\tGetHandleVerifier [0x0116A813+48355]\n\t(No symbol) [0x010FC4B1]\n\t(No symbol) [0x01005358]\n\t(No symbol) [0x010309A5]\n\t(No symbol) [0x01030B3B]\n\t(No symbol) [0x0105E232]\n\t(No symbol) [0x0104A784]\n\t(No symbol) [0x0105C922]\n\t(No symbol) [0x0104A536]\n\t(No symbol) [0x010282DC]\n\t(No symbol) [0x010293DD]\n\tGetHandleVerifier [0x013CAABD+2539405]\n\tGetHandleVerifier [0x0140A78F+2800735]\n\tGetHandleVerifier [0x0140456C+2775612]\n\tGetHandleVerifier [0x011F51E0+616112]\n\t(No symbol) [0x01105F8C]\n\t(No symbol) [0x01102328]\n\t(No symbol) [0x0110240B]\n\t(No symbol) [0x010F4FF7]\n\tBaseThreadInitThunk [0x750E6BA9+25]\n\tRtlGetFullPathName_UEx [0x77128F9F+1215]\n\tRtlGetFullPathName_UEx [0x77128F6D+1165]\n",
     "output_type": "error",
     "traceback": [
      "\u001b[1;31m---------------------------------------------------------------------------\u001b[0m",
      "\u001b[1;31mTimeoutException\u001b[0m                          Traceback (most recent call last)",
      "Input \u001b[1;32mIn [40]\u001b[0m, in \u001b[0;36m<cell line: 1>\u001b[1;34m()\u001b[0m\n\u001b[0;32m      9\u001b[0m driver\u001b[38;5;241m.\u001b[39mimplicitly_wait(\u001b[38;5;241m15\u001b[39m)\n\u001b[0;32m     10\u001b[0m driver\u001b[38;5;241m.\u001b[39mexecute_script(\u001b[38;5;124m'\u001b[39m\u001b[38;5;124marguments[0].click()\u001b[39m\u001b[38;5;124m'\u001b[39m, posts[post])\n\u001b[1;32m---> 11\u001b[0m \u001b[43mwait\u001b[49m\u001b[38;5;241;43m.\u001b[39;49m\u001b[43muntil\u001b[49m\u001b[43m(\u001b[49m\u001b[43mEC\u001b[49m\u001b[38;5;241;43m.\u001b[39;49m\u001b[43mpresence_of_element_located\u001b[49m\u001b[43m(\u001b[49m\u001b[43m(\u001b[49m\u001b[43mBy\u001b[49m\u001b[38;5;241;43m.\u001b[39;49m\u001b[43mXPATH\u001b[49m\u001b[43m,\u001b[49m\u001b[43m \u001b[49m\u001b[38;5;124;43m'\u001b[39;49m\u001b[38;5;124;43m//h1[@class=\u001b[39;49m\u001b[38;5;124;43m\"\u001b[39;49m\u001b[38;5;124;43mentry-title\u001b[39;49m\u001b[38;5;124;43m\"\u001b[39;49m\u001b[38;5;124;43m]\u001b[39;49m\u001b[38;5;124;43m'\u001b[39;49m\u001b[43m)\u001b[49m\u001b[43m)\u001b[49m\u001b[43m)\u001b[49m\n\u001b[0;32m     12\u001b[0m title\u001b[38;5;241m=\u001b[39m driver\u001b[38;5;241m.\u001b[39mfind_element(By\u001b[38;5;241m.\u001b[39mXPATH, \u001b[38;5;124m'\u001b[39m\u001b[38;5;124m//h1[@class=\u001b[39m\u001b[38;5;124m\"\u001b[39m\u001b[38;5;124mentry-title\u001b[39m\u001b[38;5;124m\"\u001b[39m\u001b[38;5;124m]\u001b[39m\u001b[38;5;124m'\u001b[39m)\u001b[38;5;241m.\u001b[39mtext\u001b[38;5;241m+\u001b[39m\u001b[38;5;124m'\u001b[39m\u001b[38;5;124m.\u001b[39m\u001b[38;5;124m'\u001b[39m\n\u001b[0;32m     13\u001b[0m \u001b[38;5;28mprint\u001b[39m(title)\n",
      "File \u001b[1;32mC:\\Python310\\lib\\site-packages\\selenium\\webdriver\\support\\wait.py:95\u001b[0m, in \u001b[0;36mWebDriverWait.until\u001b[1;34m(self, method, message)\u001b[0m\n\u001b[0;32m     93\u001b[0m     \u001b[38;5;28;01mif\u001b[39;00m time\u001b[38;5;241m.\u001b[39mmonotonic() \u001b[38;5;241m>\u001b[39m end_time:\n\u001b[0;32m     94\u001b[0m         \u001b[38;5;28;01mbreak\u001b[39;00m\n\u001b[1;32m---> 95\u001b[0m \u001b[38;5;28;01mraise\u001b[39;00m TimeoutException(message, screen, stacktrace)\n",
      "\u001b[1;31mTimeoutException\u001b[0m: Message: \nStacktrace:\nBacktrace:\n\tGetHandleVerifier [0x0116A813+48355]\n\t(No symbol) [0x010FC4B1]\n\t(No symbol) [0x01005358]\n\t(No symbol) [0x010309A5]\n\t(No symbol) [0x01030B3B]\n\t(No symbol) [0x0105E232]\n\t(No symbol) [0x0104A784]\n\t(No symbol) [0x0105C922]\n\t(No symbol) [0x0104A536]\n\t(No symbol) [0x010282DC]\n\t(No symbol) [0x010293DD]\n\tGetHandleVerifier [0x013CAABD+2539405]\n\tGetHandleVerifier [0x0140A78F+2800735]\n\tGetHandleVerifier [0x0140456C+2775612]\n\tGetHandleVerifier [0x011F51E0+616112]\n\t(No symbol) [0x01105F8C]\n\t(No symbol) [0x01102328]\n\t(No symbol) [0x0110240B]\n\t(No symbol) [0x010F4FF7]\n\tBaseThreadInitThunk [0x750E6BA9+25]\n\tRtlGetFullPathName_UEx [0x77128F9F+1215]\n\tRtlGetFullPathName_UEx [0x77128F6D+1165]\n"
     ]
    }
   ],
   "source": [
    "while True:\n",
    "    page+=1\n",
    "#     driver.get(f'{profile_url}page/{page}/')\n",
    "    wait.until(EC.presence_of_element_located((By.XPATH,'//div[@class=\"featured-image\"]/a')))\n",
    "    posts = driver.find_elements(By.XPATH,'//div[@class=\"featured-image\"]/a')\n",
    "    for post in range(len(posts)):\n",
    "        print(post)\n",
    "        wait.until(EC.presence_of_element_located((By.XPATH, '//div[@class=\"featured-image\"]/a')))\n",
    "        driver.implicitly_wait(15)\n",
    "        driver.execute_script('arguments[0].click()', posts[post])\n",
    "        wait.until(EC.presence_of_element_located((By.XPATH, '//h1[@class=\"entry-title\"]')))\n",
    "        title= driver.find_element(By.XPATH, '//h1[@class=\"entry-title\"]').text+'.'\n",
    "        print(title)\n",
    "        try:\n",
    "            wait.until(EC.presence_of_element_located((By.XPATH, '//div[@class=\"entry-content\"]')))\n",
    "            content = driver.find_element(By.XPATH,'//div[@class=\"entry-content\"]')\n",
    "        except Exception as e:\n",
    "#             driver.get(f'{profile_url}page/{page}/')\n",
    "            driver.back()\n",
    "            continue\n",
    "        content_elements = content.find_elements(By.XPATH, \"./*\")\n",
    "        content = ''\n",
    "        for element in content_elements:\n",
    "            content+=element.text\n",
    "        print(content)\n",
    "\n",
    "        content = title+content\n",
    "        texts.append(content)\n",
    "        driver.implicitly_wait(15)\n",
    "        driver.back()\n",
    "#         driver.get(f'{profile_url}page/{page}/')\n",
    "    wait.until(EC.presence_of_element_located((By.XPATH,'//div[@class=\"featured-image\"]/a')))\n",
    "    next_links = driver.find_elements(By.XPATH, \"//a[contains(text(), 'Next')]\")\n",
    "    if(len(next_links) == 0):\n",
    "        break\n",
    "    else:\n",
    "        driver.execute_script('arguments[0].click()', next_links[0])"
   ]
  },
  {
   "cell_type": "code",
   "execution_count": 41,
   "id": "f47b9fdf",
   "metadata": {},
   "outputs": [],
   "source": [
    "texts = [i for i in set(texts)]"
   ]
  },
  {
   "cell_type": "code",
   "execution_count": 43,
   "id": "ab4dddbd",
   "metadata": {
    "scrolled": true
   },
   "outputs": [
    {
     "data": {
      "text/plain": [
       "421"
      ]
     },
     "execution_count": 43,
     "metadata": {},
     "output_type": "execute_result"
    }
   ],
   "source": [
    "len(texts)"
   ]
  },
  {
   "cell_type": "code",
   "execution_count": 44,
   "id": "3727058c",
   "metadata": {},
   "outputs": [
    {
     "ename": "NameError",
     "evalue": "name 'context' is not defined",
     "output_type": "error",
     "traceback": [
      "\u001b[1;31m---------------------------------------------------------------------------\u001b[0m",
      "\u001b[1;31mNameError\u001b[0m                                 Traceback (most recent call last)",
      "Input \u001b[1;32mIn [44]\u001b[0m, in \u001b[0;36m<cell line: 1>\u001b[1;34m()\u001b[0m\n\u001b[1;32m----> 1\u001b[0m \u001b[38;5;28mprint\u001b[39m(\u001b[38;5;124m\"\u001b[39m\u001b[38;5;124m/\u001b[39m\u001b[38;5;124m\"\u001b[39m \u001b[38;5;129;01min\u001b[39;00m \u001b[43mcontext\u001b[49m)\n",
      "\u001b[1;31mNameError\u001b[0m: name 'context' is not defined"
     ]
    }
   ],
   "source": [
    "print(\"/\" in context)"
   ]
  },
  {
   "cell_type": "code",
   "execution_count": 45,
   "id": "267294ce",
   "metadata": {},
   "outputs": [],
   "source": [
    "context = \"\\n\".join(texts)"
   ]
  },
  {
   "cell_type": "code",
   "execution_count": 46,
   "id": "5afeee0d",
   "metadata": {},
   "outputs": [
    {
     "data": {
      "text/plain": [
       "str"
      ]
     },
     "execution_count": 46,
     "metadata": {},
     "output_type": "execute_result"
    }
   ],
   "source": [
    "type(context)"
   ]
  },
  {
   "cell_type": "code",
   "execution_count": 47,
   "id": "c7101d91",
   "metadata": {},
   "outputs": [],
   "source": [
    "with open('../Data/rnn_text_generation.txt', 'a', encoding=\"utf-8\") as file:\n",
    "    file.write(context)"
   ]
  },
  {
   "cell_type": "code",
   "execution_count": null,
   "id": "494f03f3",
   "metadata": {},
   "outputs": [],
   "source": []
  }
 ],
 "metadata": {
  "kernelspec": {
   "display_name": "Python 3 (ipykernel)",
   "language": "python",
   "name": "python3"
  },
  "language_info": {
   "codemirror_mode": {
    "name": "ipython",
    "version": 3
   },
   "file_extension": ".py",
   "mimetype": "text/x-python",
   "name": "python",
   "nbconvert_exporter": "python",
   "pygments_lexer": "ipython3",
   "version": "3.10.7"
  }
 },
 "nbformat": 4,
 "nbformat_minor": 5
}
